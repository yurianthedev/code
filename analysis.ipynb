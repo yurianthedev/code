{
 "cells": [
  {
   "cell_type": "markdown",
   "id": "0626ed60",
   "metadata": {},
   "source": [
    "# Análisis de encuesta de medios de estudio.\n",
    "\n",
    "El análisis estará dividido entre lo que fue encargado como ejercicios para la segunda parte de la Fase II del trabajo experimental, y aquello que fue realizado para enrriquecer la presentación que se dará en clase acerca de la encuesta.\n",
    "\n",
    "## Segunda parte, Fase II"
   ]
  },
  {
   "cell_type": "code",
   "execution_count": 1,
   "id": "9e69f1d7",
   "metadata": {},
   "outputs": [],
   "source": [
    "import pandas as pd\n",
    "\n",
    "data = pd.read_csv('../data/results.csv')\n"
   ]
  },
  {
   "cell_type": "markdown",
   "id": "30afa81d",
   "metadata": {},
   "source": [
    "### 1 - Binomial, Bernoulli y Possion."
   ]
  },
  {
   "cell_type": "code",
   "execution_count": 2,
   "id": "038702a7",
   "metadata": {},
   "outputs": [
    {
     "data": {
      "text/plain": [
       "Tengo un computador de uso personal.                               38\n",
       "Tengo un computador que debo compartir con alguien más en casa.     5\n",
       "No tengo un computador en casa.                                     1\n",
       "Name: computer_availability, dtype: int64"
      ]
     },
     "execution_count": 2,
     "metadata": {},
     "output_type": "execute_result"
    }
   ],
   "source": [
    "rand_var = 'computer_availability'\n",
    "table = data[rand_var].value_counts()  # Frequency table.\n",
    "table\n"
   ]
  },
  {
   "cell_type": "code",
   "execution_count": 3,
   "id": "e3eb3613",
   "metadata": {},
   "outputs": [
    {
     "data": {
      "text/plain": [
       "0.8636363636363636"
      ]
     },
     "execution_count": 3,
     "metadata": {},
     "output_type": "execute_result"
    }
   ],
   "source": [
    "# Primero definimos su función de probabilidad para Bernoulli.\n",
    "def bernoulli(x: int, alpha: float) -> float:\n",
    "    if x == 0:\n",
    "        return 1 - alpha\n",
    "    elif x == 1:\n",
    "        return alpha\n",
    "    else:\n",
    "        return 0\n",
    "\n",
    "\n",
    "# Para 'Tengo un computador de uso personal.'.\n",
    "x1 = 'Tengo un computador de uso personal.'\n",
    "alpha = table.loc[x1] / data[rand_var].value_counts().sum()\n",
    "index = data[rand_var].sample(1).value_counts().index[0]  # Para n = 1.\n",
    "x = 1 if index == x1 else 0\n",
    "\n",
    "bernoulli(x, alpha)\n"
   ]
  },
  {
   "cell_type": "code",
   "execution_count": 4,
   "id": "33d68058",
   "metadata": {},
   "outputs": [
    {
     "data": {
      "text/plain": [
       "0.9318181818181819"
      ]
     },
     "execution_count": 4,
     "metadata": {},
     "output_type": "execute_result"
    }
   ],
   "source": [
    "rand_var = 'computers_satisfaction'\n",
    "table = data[rand_var].value_counts()\n",
    "x1 = 'Muy insatisfecho.'\n",
    "alpha = table.loc[x1] / data[rand_var].value_counts().sum()\n",
    "index = data[rand_var].sample(1).value_counts().index[0]  # Para n = 1.\n",
    "x = 1 if index == x1 else 0\n",
    "\n",
    "bernoulli(x, alpha)\n"
   ]
  },
  {
   "cell_type": "code",
   "execution_count": 5,
   "id": "ab37631e",
   "metadata": {},
   "outputs": [
    {
     "data": {
      "text/plain": [
       "0.1847946251383883"
      ]
     },
     "execution_count": 5,
     "metadata": {},
     "output_type": "execute_result"
    }
   ],
   "source": [
    "import math\n",
    "\n",
    "\n",
    "def binomial(x: int, n: int, p: float) -> float:\n",
    "    if x not in range(n):\n",
    "        return 0\n",
    "    else:\n",
    "        return math.comb(n, x) * ((p ** x) * (1 - p) ** (n - x))\n",
    "\n",
    "\n",
    "rand_var = 'computer_availability'\n",
    "table = data[rand_var].value_counts()  # Frequency table.\n",
    "x1 = 'No tengo un computador en casa.'\n",
    "p = table.loc[x1] / data[rand_var].value_counts().sum()\n",
    "n = 10  # Para n = 10.\n",
    "\n",
    "binomial(1, n, p)\n"
   ]
  },
  {
   "cell_type": "code",
   "execution_count": 6,
   "id": "27ff0f6a",
   "metadata": {},
   "outputs": [
    {
     "name": "stdout",
     "output_type": "stream",
     "text": [
      "0.37\n"
     ]
    }
   ],
   "source": [
    "rand_var = 'computers_satisfaction'\n",
    "table = data[rand_var].value_counts()  # Frequency table.\n",
    "x1 = 'Muy insatisfecho.'\n",
    "p = table.loc[x1] / data[data[rand_var] != 'No lo usa.'][rand_var].value_counts().sum()\n",
    "n = 10\n",
    "\n",
    "print('{:.2f}'.format(binomial(1, n, p)))\n"
   ]
  },
  {
   "cell_type": "code",
   "execution_count": 7,
   "id": "5465267e",
   "metadata": {},
   "outputs": [
    {
     "name": "stdout",
     "output_type": "stream",
     "text": [
      "λ=0.6818181818181819\n",
      "bino=0.3500468484393231\n",
      "poiss=0.3447932096164585\n"
     ]
    },
    {
     "data": {
      "text/latex": [
       "$\\displaystyle b(1; 30, 0.023) = 0.35 \\approx p(1; 0.68) = 0.34$"
      ],
      "text/plain": [
       "<IPython.core.display.Math object>"
      ]
     },
     "execution_count": 7,
     "metadata": {},
     "output_type": "execute_result"
    }
   ],
   "source": [
    "from IPython.display import Math\n",
    "\n",
    "\n",
    "def poisson(x: int, λ: float) -> float:\n",
    "    return ((math.e ** (-λ)) * (λ ** x)) / math.factorial(x)\n",
    "\n",
    "\n",
    "rand_var = 'computer_availability'\n",
    "table = data[rand_var].value_counts()  # Frequency table.\n",
    "x1 = 'No tengo un computador en casa.'\n",
    "# Usamos un p pequeño para mejorar la aproximación.\n",
    "p = table.loc[x1] / data[rand_var].value_counts().sum()\n",
    "\n",
    "n = 30\n",
    "λ = n * p\n",
    "print(f\"{λ=}\")\n",
    "\n",
    "bino = binomial(1, n, p)\n",
    "poiss = poisson(1, λ)\n",
    "\n",
    "print(f\"{bino=}\")\n",
    "print(f\"{poiss=}\")\n",
    "Math(r\"b(1; {n}, {p:.2}) = {bino:.2} \\approx p(1; {λ:.2}) = {poiss:.2}\".format(\n",
    "    n=n, p=p, bino=bino, λ=λ, poiss=poiss))\n"
   ]
  },
  {
   "cell_type": "markdown",
   "id": "f63ed8c9",
   "metadata": {},
   "source": [
    "### 2 - Distribución normal."
   ]
  },
  {
   "cell_type": "code",
   "execution_count": 8,
   "id": "0df4896d",
   "metadata": {},
   "outputs": [
    {
     "name": "stdout",
     "output_type": "stream",
     "text": [
      "µ=34116.666666666664\n",
      "vrc=905730703.1250001\n",
      "σ=30095.360159416603\n"
     ]
    }
   ],
   "source": [
    "import numpy as np\n",
    "\n",
    "rand_var = 'monthly_expenses'\n",
    "\n",
    "# Como la variable que vamos a usar tiene defectos de entrada, los arreglaremos.\n",
    "# Primero, añadiremos 3 ceros a los valores que no representan un valor en la moneda colombiana.\n",
    "data.loc[data[rand_var] < 50, rand_var] *= 1000\n",
    "\n",
    "# Ahora removeremos los que son menos de 1000 pesos ya que son poco creibles pero tampoco pueden ser normalizados simplemente añadiéndoles 3 ceros.\n",
    "indeces = data[(data[rand_var] != 0) & (data[rand_var] < 1000)].index\n",
    "data.drop(indeces, inplace=True)\n",
    "\n",
    "n_samp = 33\n",
    "samp = data.sample(n_samp)[rand_var]\n",
    "samp_data = np.array(samp.values)\n",
    "\n",
    "# Usaré la media de todos los datos de la encuesta como μ, y los de la muestra la media muestral.\n",
    "μ = data[rand_var].sum() / data[rand_var].size\n",
    "# Varianza insesgada (n - 1).\n",
    "vrc = ((samp_data - μ) ** 2).sum() / (n_samp - 1)\n",
    "σ = math.sqrt(vrc)\n",
    "\n",
    "print(f\"{µ=}\")\n",
    "print(f\"{vrc=}\")\n",
    "print(f\"{σ=}\")\n"
   ]
  },
  {
   "cell_type": "code",
   "execution_count": 9,
   "id": "1738c9cb",
   "metadata": {},
   "outputs": [
    {
     "data": {
      "image/png": "[encoded data removed]",
      "text/plain": [
       "<Figure size 640x480 with 1 Axes>"
      ]
     },
     "metadata": {},
     "output_type": "display_data"
    }
   ],
   "source": [
    "import matplotlib.pyplot as plt\n",
    "\n",
    "plt.style.use('dark_background')\n",
    "\n",
    "plt.hist(samp_data, bins=samp_data.size // 2)\n",
    "plt.show()\n"
   ]
  },
  {
   "cell_type": "code",
   "execution_count": 10,
   "id": "31eef1f5",
   "metadata": {},
   "outputs": [],
   "source": [
    "from z_lookup import z_lookup\n",
    "\n",
    "\n",
    "def Φ(z: float) -> float:\n",
    "    z = abs(z)\n",
    "    return z_lookup.at[float('0.0' + f'{z:.3}'[-1]), math.trunc(z * 10) / 10]\n",
    "\n",
    "\n",
    "def Z(X: int | float, μ: float, sigma: float) -> float:\n",
    "    return (X - μ) / sigma\n"
   ]
  },
  {
   "cell_type": "code",
   "execution_count": 11,
   "id": "3d7d217a",
   "metadata": {},
   "outputs": [
    {
     "data": {
      "text/plain": [
       "0.4857"
      ]
     },
     "execution_count": 11,
     "metadata": {},
     "output_type": "execute_result"
    }
   ],
   "source": [
    "# Exactamente 100000.\n",
    "X1 = 1e5\n",
    "Z1 = Z(X1, μ, σ)\n",
    "P1 = Φ(Z1)\n",
    "P1\n"
   ]
  },
  {
   "cell_type": "code",
   "execution_count": 12,
   "id": "59bfe725",
   "metadata": {},
   "outputs": [
    {
     "data": {
      "text/plain": [
       "0.781"
      ]
     },
     "execution_count": 12,
     "metadata": {},
     "output_type": "execute_result"
    }
   ],
   "source": [
    "# Al menos 50000.\n",
    "X2 = 5e4\n",
    "Z2 = Z(X2, μ, σ)\n",
    "P2 = 1 - Φ(Z2)\n",
    "P2\n"
   ]
  },
  {
   "cell_type": "markdown",
   "id": "fc6edc8e",
   "metadata": {},
   "source": [
    "### 3 - Intérvalos de confianza."
   ]
  },
  {
   "cell_type": "code",
   "execution_count": 13,
   "id": "b446a76a",
   "metadata": {},
   "outputs": [
    {
     "data": {
      "text/plain": [
       "[(26612.11911884457, 37509.09300236755),\n",
       " (25354.775978438072, 38766.436142774044),\n",
       " (23468.761267828326, 40652.450853383794)]"
      ]
     },
     "execution_count": 13,
     "metadata": {},
     "output_type": "execute_result"
    }
   ],
   "source": [
    "import numpy as np\n",
    "import sys\n",
    "\n",
    "trust_values = [70, 80, 90]\n",
    "zs = [x / 200 for x in trust_values]\n",
    "\n",
    "closest = []\n",
    "for z in zs:\n",
    "    b = (z_lookup - z).abs()\n",
    "    min_col = 0\n",
    "    min_row = 0\n",
    "    min_val = sys.float_info.max\n",
    "    for i, col in enumerate(b):\n",
    "        for j, row in enumerate(b[col]):\n",
    "            if row < min_val:\n",
    "                min_col = i\n",
    "                min_row = j\n",
    "                min_val = row\n",
    "\n",
    "    closest.append(z_lookup.columns[min_col] + z_lookup.index[min_row])\n",
    "\n",
    "\n",
    "def error(z: float, σ: float, N: int) -> float:\n",
    "    return z * (σ / math.sqrt(N))\n",
    "\n",
    "\n",
    "mean = (samp_data.sum()) / samp_data.size\n",
    "\n",
    "intervals = [(mean - error(z, σ, n_samp), mean + error(z, σ, n_samp))\n",
    "             for z in closest]\n",
    "intervals\n"
   ]
  },
  {
   "cell_type": "markdown",
   "id": "7f58a62c",
   "metadata": {},
   "source": [
    "### 4 - Pruebas de hipótesis (Distribución Normal)\n",
    "\n",
    "$$H_{0}: \\mu = \\$50.000COP $$\n",
    "$$H_{A}: \\mu < \\$50.000COP $$"
   ]
  },
  {
   "cell_type": "code",
   "execution_count": 14,
   "id": "c7eb4523",
   "metadata": {},
   "outputs": [
    {
     "data": {
      "text/plain": [
       "0     5.000000e+04\n",
       "1     1.000000e+04\n",
       "2     1.000000e+04\n",
       "3     5.000000e+04\n",
       "4    -7.930164e-17\n",
       "5     2.000000e+04\n",
       "6     4.000000e+04\n",
       "7     5.000000e+03\n",
       "9     5.000000e+04\n",
       "10    5.000000e+03\n",
       "12    1.500000e+04\n",
       "13    2.000000e+04\n",
       "14    5.000000e+04\n",
       "15    1.500000e+05\n",
       "16   -7.930164e-17\n",
       "17    3.000000e+04\n",
       "18    3.000000e+04\n",
       "19    2.000000e+04\n",
       "20    3.300000e+04\n",
       "21    3.000000e+04\n",
       "22    4.000000e+04\n",
       "23    3.000000e+04\n",
       "24    5.000000e+04\n",
       "25    1.000000e+04\n",
       "26    4.000000e+04\n",
       "27    7.500000e+04\n",
       "28    5.490000e+04\n",
       "29    1.500000e+04\n",
       "30    2.000000e+04\n",
       "31    1.500000e+04\n",
       "32    3.000000e+04\n",
       "33    7.000000e+04\n",
       "34    1.550000e+05\n",
       "35   -7.930164e-17\n",
       "36    8.000000e+04\n",
       "37    5.000000e+03\n",
       "38    1.500000e+04\n",
       "39    5.000000e+04\n",
       "40    3.000000e+04\n",
       "41    1.000000e+04\n",
       "42    2.000000e+04\n",
       "43   -7.930164e-17\n",
       "Name: monthly_expenses, dtype: float64"
      ]
     },
     "execution_count": 14,
     "metadata": {},
     "output_type": "execute_result"
    }
   ],
   "source": [
    "from scipy import stats\n",
    "from scipy.stats import norm\n",
    "\n",
    "hyp = 5e4\n",
    "stats.zmap(data[rand_var], stats.zscore(data[rand_var]))\n"
   ]
  },
  {
   "cell_type": "markdown",
   "id": "2b3559ec",
   "metadata": {},
   "source": [
    "### 5 - Pruebas de hipótesis (Distribución T-Student)"
   ]
  },
  {
   "cell_type": "code",
   "execution_count": 15,
   "id": "e42761b2",
   "metadata": {},
   "outputs": [
    {
     "name": "stdout",
     "output_type": "stream",
     "text": [
      "Hipótesis no fue rechazada\n"
     ]
    }
   ],
   "source": [
    "# Hipótesis.\n",
    "null_hyp = 5e4\n",
    "α = 0.05\n",
    "\n",
    "statistic, pvalue = stats.ttest_1samp(samp_data, null_hyp)\n",
    "if pvalue < α:\n",
    "    print('Hipótesis no fue rechazada')\n",
    "else:\n",
    "    print('La hipótesis rechazada')"
   ]
  },
  {
   "cell_type": "markdown",
   "id": "3987bb41",
   "metadata": {},
   "source": [
    "## Análisis para la presentación"
   ]
  },
  {
   "cell_type": "code",
   "execution_count": 16,
   "id": "e61c7b76",
   "metadata": {},
   "outputs": [
    {
     "data": {
      "image/png": "[encoded data removed]",
      "text/plain": [
       "<Figure size 640x480 with 1 Axes>"
      ]
     },
     "metadata": {},
     "output_type": "display_data"
    }
   ],
   "source": [
    "by_lib_hrs = data.sort_values('library_per_week', ascending=True).reset_index()\n",
    "plt.plot('library_per_week', 'papa', 'o', data=by_lib_hrs)\n",
    "\n",
    "newy = []\n",
    "for i, papa in by_lib_hrs['papa'].items():\n",
    "    lpw = by_lib_hrs['library_per_week'].iat[i]\n",
    "    papas_at_lpw = by_lib_hrs[by_lib_hrs['library_per_week'] == lpw]['papa']\n",
    "    newy.append(papas_at_lpw.mean())\n",
    "\n",
    "plt.plot(by_lib_hrs['library_per_week'], newy)\n",
    "plt.show()\n"
   ]
  },
  {
   "cell_type": "code",
   "execution_count": 17,
   "id": "65b31081",
   "metadata": {},
   "outputs": [
    {
     "name": "stdout",
     "output_type": "stream",
     "text": [
      "Biblioteca Gabriel García Márquez                             17\n",
      "Biblioteca de Ciencia y Tecnología                            32\n",
      "Sala Central de Informática                                    9\n",
      "Biblioteca de Posgrados de Ciencias Humanas - Ernesto Guhl     5\n",
      "Hemeroteca Nacional Universitaria - Carlos Lleras Restrepo     3\n",
      "Sala de Historia - Jaime Jaramillo Uribe                       1\n",
      "Biblioteca de Ciencias Agrarias                                2\n",
      "dtype: int64\n"
     ]
    },
    {
     "data": {
      "image/png": "[encoded data removed]",
      "text/plain": [
       "<Figure size 640x480 with 1 Axes>"
      ]
     },
     "metadata": {},
     "output_type": "display_data"
    }
   ],
   "source": [
    "used_libraries_as_set = []\n",
    "for s in data['used_libraries']:\n",
    "    used_libraries_as_set.append(set(s.split(', ')) if type(s) is str else s)\n",
    "\n",
    "data['used_libraries'] = used_libraries_as_set\n",
    "count_used_lbs = {}\n",
    "for set_used_lbs in data['used_libraries']:\n",
    "    try:\n",
    "\n",
    "        for lib in set_used_lbs:\n",
    "            if lib in count_used_lbs:\n",
    "                count_used_lbs[lib] += 1\n",
    "            else:\n",
    "                count_used_lbs[lib] = 1\n",
    "    except (TypeError):\n",
    "        continue\n",
    "\n",
    "count_used_lbs = pd.Series(count_used_lbs)\n",
    "print(count_used_lbs)\n",
    "plt.pie(count_used_lbs, labels=count_used_lbs.index)\n",
    "plt.show()\n"
   ]
  },
  {
   "cell_type": "code",
   "execution_count": 18,
   "id": "fda7557c",
   "metadata": {},
   "outputs": [
    {
     "data": {
      "text/html": [
       "<div>\n",
       "<style scoped>\n",
       "    .dataframe tbody tr th:only-of-type {\n",
       "        vertical-align: middle;\n",
       "    }\n",
       "\n",
       "    .dataframe tbody tr th {\n",
       "        vertical-align: top;\n",
       "    }\n",
       "\n",
       "    .dataframe thead th {\n",
       "        text-align: right;\n",
       "    }\n",
       "</style>\n",
       "<table border=\"1\" class=\"dataframe\">\n",
       "  <thead>\n",
       "    <tr style=\"text-align: right;\">\n",
       "      <th></th>\n",
       "      <th>Muy insatisfecho.</th>\n",
       "      <th>Insatisfecho.</th>\n",
       "      <th>Neutro.</th>\n",
       "      <th>Satisfecho.</th>\n",
       "      <th>Muy satisfecho.</th>\n",
       "      <th>Total</th>\n",
       "    </tr>\n",
       "  </thead>\n",
       "  <tbody>\n",
       "    <tr>\n",
       "      <th>Biblioteca Gabriel García Márquez</th>\n",
       "      <td>2</td>\n",
       "      <td>2</td>\n",
       "      <td>6</td>\n",
       "      <td>6</td>\n",
       "      <td>1</td>\n",
       "      <td>17</td>\n",
       "    </tr>\n",
       "    <tr>\n",
       "      <th>Biblioteca de Ciencia y Tecnología</th>\n",
       "      <td>3</td>\n",
       "      <td>7</td>\n",
       "      <td>9</td>\n",
       "      <td>10</td>\n",
       "      <td>1</td>\n",
       "      <td>30</td>\n",
       "    </tr>\n",
       "    <tr>\n",
       "      <th>Sala Central de Informática</th>\n",
       "      <td>0</td>\n",
       "      <td>3</td>\n",
       "      <td>1</td>\n",
       "      <td>4</td>\n",
       "      <td>0</td>\n",
       "      <td>8</td>\n",
       "    </tr>\n",
       "    <tr>\n",
       "      <th>Biblioteca de Posgrados de Ciencias Humanas - Ernesto Guhl</th>\n",
       "      <td>1</td>\n",
       "      <td>1</td>\n",
       "      <td>3</td>\n",
       "      <td>0</td>\n",
       "      <td>0</td>\n",
       "      <td>5</td>\n",
       "    </tr>\n",
       "    <tr>\n",
       "      <th>Hemeroteca Nacional Universitaria - Carlos Lleras Restrepo</th>\n",
       "      <td>0</td>\n",
       "      <td>1</td>\n",
       "      <td>0</td>\n",
       "      <td>2</td>\n",
       "      <td>0</td>\n",
       "      <td>3</td>\n",
       "    </tr>\n",
       "    <tr>\n",
       "      <th>Sala de Historia - Jaime Jaramillo Uribe</th>\n",
       "      <td>0</td>\n",
       "      <td>1</td>\n",
       "      <td>0</td>\n",
       "      <td>0</td>\n",
       "      <td>0</td>\n",
       "      <td>1</td>\n",
       "    </tr>\n",
       "    <tr>\n",
       "      <th>Biblioteca de Ciencias Agrarias</th>\n",
       "      <td>0</td>\n",
       "      <td>1</td>\n",
       "      <td>1</td>\n",
       "      <td>0</td>\n",
       "      <td>0</td>\n",
       "      <td>2</td>\n",
       "    </tr>\n",
       "    <tr>\n",
       "      <th>Total</th>\n",
       "      <td>6</td>\n",
       "      <td>16</td>\n",
       "      <td>20</td>\n",
       "      <td>22</td>\n",
       "      <td>2</td>\n",
       "      <td>66</td>\n",
       "    </tr>\n",
       "  </tbody>\n",
       "</table>\n",
       "</div>"
      ],
      "text/plain": [
       "                                                    Muy insatisfecho.  \\\n",
       "Biblioteca Gabriel García Márquez                                   2   \n",
       "Biblioteca de Ciencia y Tecnología                                  3   \n",
       "Sala Central de Informática                                         0   \n",
       "Biblioteca de Posgrados de Ciencias Humanas - E...                  1   \n",
       "Hemeroteca Nacional Universitaria - Carlos Ller...                  0   \n",
       "Sala de Historia - Jaime Jaramillo Uribe                            0   \n",
       "Biblioteca de Ciencias Agrarias                                     0   \n",
       "Total                                                               6   \n",
       "\n",
       "                                                    Insatisfecho.  Neutro.  \\\n",
       "Biblioteca Gabriel García Márquez                               2        6   \n",
       "Biblioteca de Ciencia y Tecnología                              7        9   \n",
       "Sala Central de Informática                                     3        1   \n",
       "Biblioteca de Posgrados de Ciencias Humanas - E...              1        3   \n",
       "Hemeroteca Nacional Universitaria - Carlos Ller...              1        0   \n",
       "Sala de Historia - Jaime Jaramillo Uribe                        1        0   \n",
       "Biblioteca de Ciencias Agrarias                                 1        1   \n",
       "Total                                                          16       20   \n",
       "\n",
       "                                                    Satisfecho.  \\\n",
       "Biblioteca Gabriel García Márquez                             6   \n",
       "Biblioteca de Ciencia y Tecnología                           10   \n",
       "Sala Central de Informática                                   4   \n",
       "Biblioteca de Posgrados de Ciencias Humanas - E...            0   \n",
       "Hemeroteca Nacional Universitaria - Carlos Ller...            2   \n",
       "Sala de Historia - Jaime Jaramillo Uribe                      0   \n",
       "Biblioteca de Ciencias Agrarias                               0   \n",
       "Total                                                        22   \n",
       "\n",
       "                                                    Muy satisfecho.  Total  \n",
       "Biblioteca Gabriel García Márquez                                 1     17  \n",
       "Biblioteca de Ciencia y Tecnología                                1     30  \n",
       "Sala Central de Informática                                       0      8  \n",
       "Biblioteca de Posgrados de Ciencias Humanas - E...                0      5  \n",
       "Hemeroteca Nacional Universitaria - Carlos Ller...                0      3  \n",
       "Sala de Historia - Jaime Jaramillo Uribe                          0      1  \n",
       "Biblioteca de Ciencias Agrarias                                   0      2  \n",
       "Total                                                             2     66  "
      ]
     },
     "execution_count": 18,
     "metadata": {},
     "output_type": "execute_result"
    }
   ],
   "source": [
    "all_libs = count_used_lbs.index.copy()\n",
    "sat_lvls = ['Muy insatisfecho.', 'Insatisfecho.',\n",
    "            'Neutro.', 'Satisfecho.', 'Muy satisfecho.']\n",
    "\n",
    "marginal = pd.DataFrame(\n",
    "    0,\n",
    "    columns=sat_lvls,\n",
    "    index=all_libs)\n",
    "\n",
    "marginal.loc['Total'] = 0\n",
    "marginal['Total'] = 0\n",
    "\n",
    "for i in data.index:\n",
    "    satisfaction = data.loc[i, 'computers_satisfaction']\n",
    "    if satisfaction == 'No lo usa.':\n",
    "        continue\n",
    "    libs = data.loc[i, 'used_libraries']\n",
    "\n",
    "    try:\n",
    "        for lib in libs:\n",
    "            marginal.loc[lib, satisfaction] += 1\n",
    "            marginal.loc[lib]['Total'] += 1\n",
    "            marginal.loc['Total']['Total'] += 1\n",
    "            marginal.loc['Total',\n",
    "                         satisfaction] = marginal.at['Total', satisfaction] + 1\n",
    "    except (TypeError):\n",
    "        continue\n",
    "\n",
    "\n",
    "marginal\n"
   ]
  },
  {
   "cell_type": "code",
   "execution_count": 19,
   "id": "a16b1adc",
   "metadata": {},
   "outputs": [],
   "source": [
    "total = marginal.at['Total', 'Total']\n",
    "bdfs = []\n",
    "\n",
    "for lib in all_libs:\n",
    "    bdf = pd.DataFrame()\n",
    "    for lvl in sat_lvls:\n",
    "        priori = marginal.at['Total', lvl] / total\n",
    "        bdf.at[lvl, 'Priori'] = priori\n",
    "        bdf.at[lvl, 'Conditional'] = marginal.at[lib, lvl] / \\\n",
    "            marginal.at[lib, 'Total']\n",
    "        bdf.at[lvl, 'Both'] = bdf.at[lvl, 'Conditional'] * \\\n",
    "            bdf.at[lvl, 'Priori']\n",
    "\n",
    "    both_sum = bdf['Both'].sum()\n",
    "    if both_sum == 0:\n",
    "        bdf['Both'] = 0\n",
    "        continue\n",
    "\n",
    "    for lvl in sat_lvls:\n",
    "        bdf.at[lvl, 'Posteriori'] = bdf.at[lvl, 'Both'] / both_sum\n",
    "\n",
    "    bdfs.append(bdf)\n"
   ]
  },
  {
   "cell_type": "code",
   "execution_count": 20,
   "id": "7f53b32c",
   "metadata": {},
   "outputs": [
    {
     "name": "stdout",
     "output_type": "stream",
     "text": [
      "Biblioteca Gabriel García Márquez\n"
     ]
    },
    {
     "data": {
      "text/html": [
       "<div>\n",
       "<style scoped>\n",
       "    .dataframe tbody tr th:only-of-type {\n",
       "        vertical-align: middle;\n",
       "    }\n",
       "\n",
       "    .dataframe tbody tr th {\n",
       "        vertical-align: top;\n",
       "    }\n",
       "\n",
       "    .dataframe thead th {\n",
       "        text-align: right;\n",
       "    }\n",
       "</style>\n",
       "<table border=\"1\" class=\"dataframe\">\n",
       "  <thead>\n",
       "    <tr style=\"text-align: right;\">\n",
       "      <th></th>\n",
       "      <th>Priori</th>\n",
       "      <th>Conditional</th>\n",
       "      <th>Both</th>\n",
       "      <th>Posteriori</th>\n",
       "    </tr>\n",
       "  </thead>\n",
       "  <tbody>\n",
       "    <tr>\n",
       "      <th>Muy insatisfecho.</th>\n",
       "      <td>0.090909</td>\n",
       "      <td>0.117647</td>\n",
       "      <td>0.010695</td>\n",
       "      <td>0.040268</td>\n",
       "    </tr>\n",
       "    <tr>\n",
       "      <th>Insatisfecho.</th>\n",
       "      <td>0.242424</td>\n",
       "      <td>0.117647</td>\n",
       "      <td>0.028520</td>\n",
       "      <td>0.107383</td>\n",
       "    </tr>\n",
       "    <tr>\n",
       "      <th>Neutro.</th>\n",
       "      <td>0.303030</td>\n",
       "      <td>0.352941</td>\n",
       "      <td>0.106952</td>\n",
       "      <td>0.402685</td>\n",
       "    </tr>\n",
       "    <tr>\n",
       "      <th>Satisfecho.</th>\n",
       "      <td>0.333333</td>\n",
       "      <td>0.352941</td>\n",
       "      <td>0.117647</td>\n",
       "      <td>0.442953</td>\n",
       "    </tr>\n",
       "    <tr>\n",
       "      <th>Muy satisfecho.</th>\n",
       "      <td>0.030303</td>\n",
       "      <td>0.058824</td>\n",
       "      <td>0.001783</td>\n",
       "      <td>0.006711</td>\n",
       "    </tr>\n",
       "  </tbody>\n",
       "</table>\n",
       "</div>"
      ],
      "text/plain": [
       "                     Priori  Conditional      Both  Posteriori\n",
       "Muy insatisfecho.  0.090909     0.117647  0.010695    0.040268\n",
       "Insatisfecho.      0.242424     0.117647  0.028520    0.107383\n",
       "Neutro.            0.303030     0.352941  0.106952    0.402685\n",
       "Satisfecho.        0.333333     0.352941  0.117647    0.442953\n",
       "Muy satisfecho.    0.030303     0.058824  0.001783    0.006711"
      ]
     },
     "execution_count": 20,
     "metadata": {},
     "output_type": "execute_result"
    }
   ],
   "source": [
    "print(all_libs[0])\n",
    "bdfs[0]\n"
   ]
  },
  {
   "cell_type": "code",
   "execution_count": 21,
   "id": "d25728cd",
   "metadata": {},
   "outputs": [
    {
     "name": "stdout",
     "output_type": "stream",
     "text": [
      "Satisfecho, Muy satisfecho: 44.97%\n",
      "El resto: 55.03%\n"
     ]
    }
   ],
   "source": [
    "# Probabilidad de que esté satisfecho dado que haya usado la biblioteca del CyT.\n",
    "sum_sats = bdfs[0].loc[['Satisfecho.','Muy satisfecho.'], 'Posteriori'].sum()\n",
    "print('Satisfecho, Muy satisfecho: {:.2f}%'.format(sum_sats * 100))\n",
    "print('El resto: {:.2f}%'.format((1 - sum_sats) * 100))\n"
   ]
  },
  {
   "cell_type": "code",
   "execution_count": 22,
   "id": "591a92da",
   "metadata": {},
   "outputs": [
    {
     "name": "stdout",
     "output_type": "stream",
     "text": [
      "Biblioteca de Ciencia y Tecnología\n"
     ]
    },
    {
     "data": {
      "text/html": [
       "<div>\n",
       "<style scoped>\n",
       "    .dataframe tbody tr th:only-of-type {\n",
       "        vertical-align: middle;\n",
       "    }\n",
       "\n",
       "    .dataframe tbody tr th {\n",
       "        vertical-align: top;\n",
       "    }\n",
       "\n",
       "    .dataframe thead th {\n",
       "        text-align: right;\n",
       "    }\n",
       "</style>\n",
       "<table border=\"1\" class=\"dataframe\">\n",
       "  <thead>\n",
       "    <tr style=\"text-align: right;\">\n",
       "      <th></th>\n",
       "      <th>Priori</th>\n",
       "      <th>Conditional</th>\n",
       "      <th>Both</th>\n",
       "      <th>Posteriori</th>\n",
       "    </tr>\n",
       "  </thead>\n",
       "  <tbody>\n",
       "    <tr>\n",
       "      <th>Muy insatisfecho.</th>\n",
       "      <td>0.090909</td>\n",
       "      <td>0.100000</td>\n",
       "      <td>0.009091</td>\n",
       "      <td>0.033835</td>\n",
       "    </tr>\n",
       "    <tr>\n",
       "      <th>Insatisfecho.</th>\n",
       "      <td>0.242424</td>\n",
       "      <td>0.233333</td>\n",
       "      <td>0.056566</td>\n",
       "      <td>0.210526</td>\n",
       "    </tr>\n",
       "    <tr>\n",
       "      <th>Neutro.</th>\n",
       "      <td>0.303030</td>\n",
       "      <td>0.300000</td>\n",
       "      <td>0.090909</td>\n",
       "      <td>0.338346</td>\n",
       "    </tr>\n",
       "    <tr>\n",
       "      <th>Satisfecho.</th>\n",
       "      <td>0.333333</td>\n",
       "      <td>0.333333</td>\n",
       "      <td>0.111111</td>\n",
       "      <td>0.413534</td>\n",
       "    </tr>\n",
       "    <tr>\n",
       "      <th>Muy satisfecho.</th>\n",
       "      <td>0.030303</td>\n",
       "      <td>0.033333</td>\n",
       "      <td>0.001010</td>\n",
       "      <td>0.003759</td>\n",
       "    </tr>\n",
       "  </tbody>\n",
       "</table>\n",
       "</div>"
      ],
      "text/plain": [
       "                     Priori  Conditional      Both  Posteriori\n",
       "Muy insatisfecho.  0.090909     0.100000  0.009091    0.033835\n",
       "Insatisfecho.      0.242424     0.233333  0.056566    0.210526\n",
       "Neutro.            0.303030     0.300000  0.090909    0.338346\n",
       "Satisfecho.        0.333333     0.333333  0.111111    0.413534\n",
       "Muy satisfecho.    0.030303     0.033333  0.001010    0.003759"
      ]
     },
     "execution_count": 22,
     "metadata": {},
     "output_type": "execute_result"
    }
   ],
   "source": [
    "print(all_libs[1])\n",
    "bdfs[1]\n"
   ]
  },
  {
   "cell_type": "code",
   "execution_count": 23,
   "id": "7fa5905b",
   "metadata": {},
   "outputs": [
    {
     "name": "stdout",
     "output_type": "stream",
     "text": [
      "Satisfecho, Muy satisfecho: 41.73%\n",
      "El resto: 58.27%\n"
     ]
    }
   ],
   "source": [
    "# Probabilidad de que esté satisfecho dado que haya usado la Biblioteca Central.\n",
    "sum_sats = bdfs[1].loc[['Satisfecho.', 'Muy satisfecho.'], 'Posteriori'].sum()\n",
    "print('Satisfecho, Muy satisfecho: {:.2f}%'.format(sum_sats * 100))\n",
    "print('El resto: {:.2f}%'.format((1 - sum_sats) * 100))\n"
   ]
  }
 ],
 "metadata": {
  "kernelspec": {
   "display_name": "phase2",
   "language": "python",
   "name": "phase2"
  },
  "language_info": {
   "codemirror_mode": {
    "name": "ipython",
    "version": 3
   },
   "file_extension": ".py",
   "mimetype": "text/x-python",
   "name": "python",
   "nbconvert_exporter": "python",
   "pygments_lexer": "ipython3",
   "version": "3.10.8"
  },
  "vscode": {
   "interpreter": {
    "hash": "7e8a7400ac952b12fa5c54d1577536a45f9b60bc9cc850bfe4c184392a5db7c9"
   }
  }
 },
 "nbformat": 4,
 "nbformat_minor": 5
}
